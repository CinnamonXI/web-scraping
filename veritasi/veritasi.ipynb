{
 "cells": [
  {
   "cell_type": "code",
   "execution_count": 1,
   "id": "general-database",
   "metadata": {},
   "outputs": [],
   "source": [
    "import pandas as pd\n",
    "from bs4 import BeautifulSoup as bs\n",
    "from urllib.request import urlopen, Request"
   ]
  },
  {
   "cell_type": "code",
   "execution_count": 2,
   "id": "square-carbon",
   "metadata": {
    "scrolled": true
   },
   "outputs": [],
   "source": [
    "base_url = \"https://veritasihomes.com/premium-homes/\"\n",
    "extend = [\"camberwall-advantage/\", \"camberwall-court\",]"
   ]
  },
  {
   "cell_type": "code",
   "execution_count": 3,
   "id": "thrown-messaging",
   "metadata": {},
   "outputs": [],
   "source": [
    "#get url, find name, location, description and append them to their respective list\n",
    "names = []\n",
    "locations = []\n",
    "descriptions = []\n",
    "dfs = []\n",
    "images = []\n",
    "\n",
    "\n",
    "for i in extend:\n",
    "    url = base_url+i\n",
    "    req = Request(url, headers = {\"User-Agent\": 'Mozilla/5.0 (Macintosh; Intel Mac \\\n",
    "                                  OS X 10.15; rv:78.0) Gecko/20100101 Firefox/78.0'})\n",
    "    resp = urlopen(req)\n",
    "    html = resp.read()\n",
    "    soup = bs(html, \"lxml\")\n",
    "    \n",
    "    df = pd.read_html(html)\n",
    "    for d in df:\n",
    "        dfs.append(d.to_dict())\n",
    "        \n",
    "    name = soup.find(\"h2\", class_= \"elementor-heading-title\").string\n",
    "    names.append(name)\n",
    "        \n",
    "    location = soup.find(\"span\", class_=\"elementor-icon-list-text\").string\n",
    "    locations.append(location)\n",
    "        \n",
    "        \n",
    "    description = soup.find(\"div\", class_ = \"elementor-text-editor\" ).text.strip()\n",
    "    descriptions.append(description)\n",
    "        \n",
    "    image = soup.find_all(\"img\", class_ = \"swiper-slide-image\")\n",
    "    for i in image:\n",
    "        images.append(i.get(\"src\"))\n",
    "            \n"
   ]
  },
  {
   "cell_type": "code",
   "execution_count": 4,
   "id": "grateful-summary",
   "metadata": {},
   "outputs": [],
   "source": [
    "#get the virtual inspection links\n",
    "url_i = \"https://veritasihomes.com/virtualinspection/\"\n",
    "req1 = Request(url_i, headers = {\"User-Agent\": 'Mozilla/5.0 (Macintosh; Intel Mac \\\n",
    "OS X 10.15; rv:78.0) Gecko/20100101 Firefox/78.0'})\n",
    "resp1 = urlopen(req1)\n",
    "html1 = resp1.read()\n",
    "soup1 = bs(html1, \"lxml\")\n",
    "\n",
    "virtual_tour = []\n",
    "for link in soup1.find_all(\"a\" , class_=\"elementor-flip-box__layer elementor-flip-box__back\"):\n",
    "    virtual_tour.append(link.get(\"href\"))"
   ]
  },
  {
   "cell_type": "code",
   "execution_count": 5,
   "id": "recognized-appointment",
   "metadata": {},
   "outputs": [],
   "source": [
    "data1 = {\"name\": names[0],\n",
    "              \"location\":locations[0],\n",
    "              \"description\": descriptions[0],\n",
    "             \"payment plans\": {\n",
    "                 \"advantage 1\":{\n",
    "                 \"2 bedroom payment plan\": dfs[0],\n",
    "                 \"3 bedroom payment plan\": dfs[1]\n",
    "             },\n",
    "         \"advantage 2\":{\n",
    "             \"2 bedroom payment plan\": dfs[2],\n",
    "             \"3 bedroom payment plan\": dfs[3],\n",
    "             \"4 bedroom payment plan\": dfs[4]\n",
    "         }},\n",
    "         \"images\":images[:5]\n",
    "        }"
   ]
  },
  {
   "cell_type": "code",
   "execution_count": 6,
   "id": "minimal-warning",
   "metadata": {},
   "outputs": [],
   "source": [
    "data2 = {\"name\": names[1],\n",
    "              \"location\":locations[1],\n",
    "              \"description\": descriptions[1],\n",
    "              \"payment plans\": {\n",
    "                  \"2 bedroom payment plan\": dfs[5],\n",
    "                  \"3 bedroom payment plan\": dfs[6],\n",
    "                  \"4 bedroom semi-detached payment plan\": dfs[7],\n",
    "                  \"3 bedroom terraces payment plan\": dfs[8],\n",
    "                  \"3 bedroom bungalow payment plan\": dfs[9]\n",
    "              },\n",
    "         \"images\":images[5:]\n",
    "                                   }"
   ]
  },
  {
   "cell_type": "code",
   "execution_count": 7,
   "id": "careful-rubber",
   "metadata": {},
   "outputs": [],
   "source": [
    "all_data = {\"premium plan\":{\"home 1\": data1,\n",
    "                           \"home 2\": data2},\n",
    "            \"virtual tours\":{\n",
    "                \"camberwall apartments\": virtual_tour[0],\n",
    "                \"camberwall terraces\": virtual_tour[1],\n",
    "                \"camberwall bungalow\": virtual_tour[2]\n",
    "            }\n",
    "           }"
   ]
  },
  {
   "cell_type": "code",
   "execution_count": 8,
   "id": "excess-missile",
   "metadata": {},
   "outputs": [
    {
     "name": "stdout",
     "output_type": "stream",
     "text": [
      "{'premium plan': {'home 1': {'name': 'Camberwall Advantage', 'location': 'IKATE LEKKI, LAGOS.', 'description': 'Camberwall Advantage is an upscale real estate development project by Veritasi Homes and Properties. Comprising apartments and units of flat, Camberwall Advantage is strategically located at Ikate.\\xa0The proposed project features unique and elegant designs tailored to meet the need of the modern day investor as well as appeal to aesthetics. With the existing reputation of Veritasi Homes with Camberwall projects, this project promises homes of a high standard, quality finishings and best value for investment.\\xa0Our strategy transcends developing homes to solve the housing problems of Nigeria, we have injected interesting metrics to help our clients get cash flow into our product plan. With this,\\xa0 Camberwall Advantage is set to set a new hallmark for a sophisticated urban living.Ikate is one of the most developed neighbourhoods in Lagos Island, just about five minutes drive from the Lekki, assets here are a goldmine. Appreciation and easy liquidation of assets is assured.', 'payment plans': {'advantage 1': {'2 bedroom payment plan': {'PAYMENT PERIOD': {0: 'Price', 1: 'Initial Deposit', 2: '1st Payment', 3: '2nd Payment', 4: '3rd Payment', 5: '4th Payment', 6: '5th Payment', 7: '6th Payment'}, '3 MONTHS CUSTOM PLAN': {0: '₦45,000,000.00', 1: '₦10,000,000.00', 2: '₦10,000,000.00', 3: '₦12,500,000.00', 4: '₦7,500,000.00', 5: nan, 6: nan, 7: nan}, '6 MONTHS CUSTOM PLAN': {0: '₦46,000,000.00', 1: '₦10,000,000.00', 2: '₦10,000,000.00', 3: '₦10,000,000.00', 4: '₦7,500,000.00', 5: '₦4,500,000.00', 6: nan, 7: '₦4,000,000.00'}, '12 MONTHS CUSTOM PLAN': {0: '₦47,500,000.00', 1: '₦10,000,000.00', 2: '₦10,000,000.00', 3: '₦8,500,000.00', 4: '₦7,000,000.00', 5: '₦5,500,000.00', 6: '₦5,500,000.00', 7: '₦2,500,000.00'}}, '3 bedroom payment plan': {'PAYMENT PERIOD': {0: 'Price', 1: 'Initial Deposit', 2: '1st Payment', 3: '2nd Payment', 4: '3rd Payment', 5: '4th Payment', 6: '5th Payment', 7: '6th Payment'}, '3 MONTHS CUSTOM PLAN': {0: '₦75,000,000.00', 1: '₦10,000,000.00', 2: '₦25,000,000.00', 3: '₦20,000,000.00', 4: '₦20,000,000.00', 5: nan, 6: nan, 7: nan}, '6 MONTHS CUSTOM PLAN': {0: '₦76,000,000.00', 1: '₦10,000,000.00', 2: '₦20,000,000.00', 3: '₦18,500,000.00', 4: '₦12,500,000.00', 5: '₦10,000,000.00', 6: nan, 7: '₦5,000,000.00'}, '12 MONTHS CUSTOM PLAN': {0: '₦77,500,000.00', 1: '₦10,000,000.00', 2: '₦17,500,000.00', 3: '₦15,000,000.00', 4: '₦13,000,000.00', 5: '₦10,000,000.00', 6: '₦7,000,000.00', 7: '₦5,000,000.00'}}}, 'advantage 2': {'2 bedroom payment plan': {'PAYMENT PERIOD': {0: 'Price', 1: 'Initial Deposit', 2: '1st Payment', 3: '2nd Payment', 4: '3rd Payment', 5: '4th Payment', 6: '5th Payment', 7: '6th Payment'}, '3 MONTHS CUSTOM PLAN': {0: '₦44,000,000.00', 1: '₦10,000,000.00', 2: '₦15,000,000.00', 3: '₦15,00,000.00', 4: '₦4,000,000.00', 5: nan, 6: nan, 7: nan}, '6 MONTHS CUSTOM PLAN': {0: '₦45,000,000.00', 1: '₦10,000,000.00', 2: '₦8,500,000.00', 3: '₦8,500,000.00', 4: '₦8,500,000.00', 5: '₦6,000,000.00', 6: nan, 7: '₦3,500,000.00'}, '12 MONTHS CUSTOM PLAN': {0: '₦46,500,000.00', 1: '₦10,000,000.00', 2: '₦8,500,000.00', 3: '₦8,500,000.00', 4: '₦7,000,000.00', 5: '₦5,500,000.00', 6: '₦4,000,000.00', 7: '₦3,000,000.00'}}, '3 bedroom payment plan': {'PAYMENT PERIOD': {0: 'Price', 1: 'Initial Deposit', 2: '1st payment', 3: '2nd Payment', 4: '3rd payment', 5: '4th Payment', 6: '5th Payment', 7: '6th Payment', 8: '7th Payment', 9: '8th Payment', 10: '9th Payment', 11: '10th Payment', 12: '11th Payment', 13: '12th Payment', 14: '13th Payment', 15: '14th Payment', 16: '15th Payment', 17: '16th Payment', 18: '17th Payment', 19: '18th Payment'}, '3 MONTHS': {0: '₦65,000,000.00', 1: '₦10,000,000.00', 2: '₦20,000,000.00', 3: '₦20,000,000.00', 4: '₦15,000,000.00', 5: nan, 6: nan, 7: nan, 8: nan, 9: nan, 10: nan, 11: nan, 12: nan, 13: nan, 14: nan, 15: nan, 16: nan, 17: nan, 18: nan, 19: nan}, '6 MONTHS': {0: '₦66,500,000.00', 1: '₦10,000,000.00', 2: '₦20,000,000.00', 3: '₦15,000,000.00', 4: '₦10,000,000.00', 5: '₦7,500,000.00', 6: nan, 7: '₦4,000,000.00', 8: nan, 9: nan, 10: nan, 11: nan, 12: nan, 13: nan, 14: nan, 15: nan, 16: nan, 17: nan, 18: nan, 19: nan}, '12 MONTHS': {0: '₦68,000,000.00', 1: '₦10,000,000.00', 2: '₦15,000,000.00', 3: '₦15,000,000.00', 4: '₦10,000,000.00', 5: '₦7,500,000.00', 6: '₦7,500,000.00', 7: '₦3,000,000.00', 8: nan, 9: nan, 10: nan, 11: nan, 12: nan, 13: nan, 14: nan, 15: nan, 16: nan, 17: nan, 18: nan, 19: nan}, '18 MONTHS': {0: '₦70,000,000.00', 1: '₦10,000,000.00', 2: '₦15,000,000.00', 3: '₦10,000,000.00', 4: '₦7,500,000.00', 5: '₦7,500,000.00', 6: '₦5,000,000.00', 7: '₦5,000,000.00', 8: '₦2,500,000.00', 9: '₦2,500,000.00', 10: '₦2,500,000.00', 11: '₦2,500,000.00', 12: '₦2,500,000.00', 13: nan, 14: nan, 15: nan, 16: nan, 17: nan, 18: nan, 19: nan}, '24 MONTHS': {0: '₦75,000,000.00', 1: '₦10,000,000.00', 2: '₦10,000,000.00', 3: '₦10,000,000.00', 4: '₦7,500,000.00', 5: '₦7,500,000.00', 6: '₦5,000,000.00', 7: '₦2,500,000.00', 8: '₦2,500,000.00', 9: '₦2,500,000.00', 10: '₦2,500,000.00', 11: '₦2,500,000.00', 12: '₦2,500,000.00', 13: '₦2,500,000.00', 14: '₦1,500,000.00', 15: '₦1,500,000.00', 16: '₦1,500,000.00', 17: '₦1,500,000.00', 18: '₦1,500,000.00', 19: nan}}, '4 bedroom payment plan': {'PAYMENT PERIOD': {0: 'Price', 1: 'Initial Deposit', 2: '1st Payment', 3: '2nd Payment', 4: '3rd Payment', 5: '4th Payment', 6: '5th Payment', 7: '6th Payment'}, '3 MONTHS CUSTOM PLAN': {0: '₦95,000,000.00', 1: '₦10,000,000.00', 2: '₦33,000,000.00', 3: '₦33,000,000.00', 4: '₦19,000,000.00', 5: nan, 6: nan, 7: nan}, '6 MONTHS CUSTOM PLAN': {0: '₦96,000,000.00', 1: '₦10,000,000.00', 2: '₦22,000,000.00', 3: '₦22,000,000.00', 4: '₦16,000,000.00', 5: '₦16,000,000.00', 6: nan, 7: '₦10,000,000.00'}, '12 MONTHS CUSTOM PLAN': {0: '₦97,500,000.00', 1: '₦10,000,000.00', 2: '₦20,000,000.00', 3: '₦18,000,000.00', 4: '₦15,000,000.00', 5: '₦15,000,000.00', 6: '₦12,500,000.00', 7: '₦7,000,000.00'}}}}, 'images': ['https://veritasihomes.com/wp-content/uploads/elementor/thumbs/visual-1-p3o1dwnq6paqeeu49ghztit0k35n82kik7l1bnfuko.jpg', 'https://veritasihomes.com/wp-content/uploads/elementor/thumbs/Drone-2-p3o1dvpvzv9g2svhey3d911jypaa0dgs82xjudh8qw.jpg', 'https://veritasihomes.com/wp-content/uploads/elementor/thumbs/drone-5-p3o1dwnq6paqeeu49ghztit0k35n82kik7l1bnfuko.jpg', 'https://veritasihomes.com/wp-content/uploads/elementor/thumbs/1-1-p3o1dus1t185r6wukfoqoja3dbewsod1vya2d3imx4.jpg', 'https://veritasihomes.com/wp-content/uploads/elementor/thumbs/Adv.-7-p3o1dvpvzv9g2svhey3d911jypaa0dgs82xjudh8qw.jpg']}, 'home 2': {'name': 'Camberwall Court Phase 2\\n', 'location': 'ABIJO GRA, LAGOS.', 'description': 'Camberwall Courts Phase 2, is an Urban apartment development designed to reflect the magical merge of form and function in its architecture. Its design caters to modern living for residents of the apartments. Located in the heart of Abijo GRA along the Lekki-Epe Expressway, the estate is a masterpiece. It features a splendid layout, visitors park, smart card access, renewable energy and surveillance.', 'payment plans': {'2 bedroom payment plan': {'PAYMENT PERIOD': {0: 'Initial Deposit', 1: 'Outright'}, '3 MONTHS': {0: '₦4,000,000.00', 1: '₦21,000,000'}, '6 MONTHS': {0: '₦4,000,000.00', 1: '₦21,500,000'}, '12 MONTHS': {0: '₦4,000,000.00', 1: '₦22,000,000'}, '18 MONTHS': {0: '₦4,000,000.00', 1: '₦23,000,000'}}, '3 bedroom payment plan': {'PAYMENT PERIOD': {0: 'Initial Deposit', 1: 'Outright'}, '3 MONTHS': {0: '₦4,000,000.00', 1: '₦27,000,000'}, '6 MONTHS': {0: '₦4,000,000.00', 1: '₦27,500,000'}, '12 MONTHS': {0: '₦4,000,000.00', 1: '₦28,000,000'}, '18 MONTHS': {0: '₦4,000,000.00', 1: '₦29,000,000'}}, '4 bedroom semi-detached payment plan': {'PAYMENT PERIOD': {0: 'Initial Deposit', 1: 'Outright'}, '3 MONTHS': {0: '₦4,000,000.00', 1: '₦45,000,000'}, '6 MONTHS': {0: '₦4,000,000.00', 1: '₦45,500,000'}, '12 MONTHS': {0: '₦4,000,000.00', 1: '₦46,000,000'}, '18 MONTHS': {0: '₦4,000,000.00', 1: '₦46,500,000'}}, '3 bedroom terraces payment plan': {'PAYMENT PERIOD': {0: 'Initial Deposit', 1: 'Outright'}, '3 MONTHS': {0: '₦4,000,000.00', 1: '₦34,000,000'}, '6 MONTHS': {0: '₦4,000,000.00', 1: '₦34,500,000.00'}, '12 MONTHS': {0: '₦4,000,000.00', 1: '₦35,000,000.00'}, '18 MONTHS': {0: '₦4,000,000.00', 1: '₦35,500,000.00'}}, '3 bedroom bungalow payment plan': {'PAYMENT PERIOD': {0: 'Initial Deposit', 1: 'Outright'}, '3 MONTHS': {0: '₦4,000,000.00', 1: '₦33,000,000'}, '6 MONTHS': {0: '₦4,000,000.00', 1: '₦33,500,000'}, '12 MONTHS': {0: '₦4,000,000.00', 1: '₦35,000,000'}}}, 'images': ['https://veritasihomes.com/wp-content/uploads/elementor/thumbs/SEMI-DETACHED-4-p3o1dwnq6paqeeu49ghztit0k35n82kik7l1bnfuko.jpg', 'https://veritasihomes.com/wp-content/uploads/elementor/thumbs/TERRACE-5-p3o1dwnq6paqeeu49ghztit0k35n82kik7l1bnfuko.jpg', 'https://veritasihomes.com/wp-content/uploads/elementor/thumbs/BUNGALOW-2-1-p3o1dvpvzv9g2svhey3d911jypaa0dgs82xjudh8qw.jpg']}}, 'virtual tours': {'camberwall apartments': 'https://veritasihomes.com/courtApartment_virtualtour/', 'camberwall terraces': 'https://veritasihomes.com/court_terrace_virtualtour/', 'camberwall bungalow': 'https://veritasihomes.com/CourtBungalow_virtualtour/'}}\n"
     ]
    }
   ],
   "source": [
    "print(all_data)"
   ]
  },
  {
   "cell_type": "code",
   "execution_count": 9,
   "id": "judicial-riverside",
   "metadata": {},
   "outputs": [],
   "source": [
    "import json\n",
    "\n",
    "with open('veritasi.json', 'w') as f:\n",
    "    json.dump(all_data, f, indent = 2)"
   ]
  },
  {
   "cell_type": "code",
   "execution_count": null,
   "id": "rolled-racing",
   "metadata": {},
   "outputs": [],
   "source": []
  }
 ],
 "metadata": {
  "kernelspec": {
   "display_name": "Python 3",
   "language": "python",
   "name": "python3"
  },
  "language_info": {
   "codemirror_mode": {
    "name": "ipython",
    "version": 3
   },
   "file_extension": ".py",
   "mimetype": "text/x-python",
   "name": "python",
   "nbconvert_exporter": "python",
   "pygments_lexer": "ipython3",
   "version": "3.9.1"
  }
 },
 "nbformat": 4,
 "nbformat_minor": 5
}
