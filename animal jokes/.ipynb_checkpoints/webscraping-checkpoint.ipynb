{
 "cells": [
  {
   "cell_type": "code",
   "execution_count": 1,
   "metadata": {},
   "outputs": [],
   "source": [
    "#Import libraries\n",
    "import pandas as pd\n",
    "from bs4 import BeautifulSoup as bs\n",
    "from urllib.request import urlopen"
   ]
  },
  {
   "cell_type": "code",
   "execution_count": 2,
   "metadata": {},
   "outputs": [],
   "source": [
    "#specify url\n",
    "url = \"http://www.laughfactory.com/jokes/animal-jokes/\""
   ]
  },
  {
   "cell_type": "code",
   "execution_count": 3,
   "metadata": {},
   "outputs": [],
   "source": [
    "#get the html from the page and assign it to the html variable\n",
    "html = urlopen(url)"
   ]
  },
  {
   "cell_type": "code",
   "execution_count": 4,
   "metadata": {},
   "outputs": [],
   "source": [
    "#parse the html and assign it to the variable 'soup'\n",
    "soup = bs(html.read(), 'html.parser')"
   ]
  },
  {
   "cell_type": "code",
   "execution_count": 5,
   "metadata": {},
   "outputs": [
    {
     "name": "stdout",
     "output_type": "stream",
     "text": [
      "\n",
      "\r\n",
      "                        Reporter: \"Excuse me, may I interview you?\" Man: \"Yes!\" Reporter: \"Name?\" Man: \"Abdul Al-Rhazim.\" Reporter: \"Sex?\" Man: \"Three to five times a week.\" Reporter: \"No no! I mean male or female?\" Man: \"Yes, male, female... sometimes camel.\" Reporter: \"Holy cow!\" Man: \"Yes, cow, sheep... animals in general.\" Reporter: \"But isn't that hostile?\" Man: \"Yes, horse style, dog style, any style.\" Reporter: \"Oh dear!\"  Man: \"No, no deer. Deer run too fast. Hard to catch.\"                    \n",
      "\n"
     ]
    }
   ],
   "source": [
    "#get the text of the joke and assign to the variable \"joke\"\n",
    "joke = soup.find(\"div\", class_=\"joke-text\").text\n",
    "print(joke)"
   ]
  },
  {
   "cell_type": "code",
   "execution_count": 6,
   "metadata": {},
   "outputs": [
    {
     "name": "stdout",
     "output_type": "stream",
     "text": [
      "Dhunganasa...\n",
      "60929\n",
      "20702\n"
     ]
    }
   ],
   "source": [
    "#get the text of author, like, and dislike\n",
    "author = soup.find(\"span\", class_ = \"joke-publisher\").text\n",
    "like = soup.find(\"a\", class_ = \"like\").text\n",
    "dislike = soup.find(\"a\", class_ = \"dislike\").text\n",
    "print(author)\n",
    "print(like)\n",
    "print(dislike)"
   ]
  },
  {
   "cell_type": "code",
   "execution_count": 7,
   "metadata": {},
   "outputs": [
    {
     "data": {
      "text/plain": [
       "['Dhunganasa...',\n",
       " 'ZDW',\n",
       " 'TheLaughFa...',\n",
       " 'Anonymous',\n",
       " 'bandajoey92',\n",
       " 'sanchie',\n",
       " 'bobby',\n",
       " 'lovebite',\n",
       " 'TheLaughFa...',\n",
       " 'Anonymous',\n",
       " 'becky.awsum',\n",
       " 'Mysteryguy...']"
      ]
     },
     "metadata": {},
     "output_type": "display_data"
    },
    {
     "data": {
      "text/plain": [
       "['Reporter: \"Excuse me, may I interview you?\" Man: \"Yes!\" Reporter: \"Name?\" Man: \"Abdul Al-Rhazim.\" Reporter: \"Sex?\" Man: \"Three to five times a week.\" Reporter: \"No no! I mean male or female?\" Man: \"Yes, male, female... sometimes camel.\" Reporter: \"Holy cow!\" Man: \"Yes, cow, sheep... animals in general.\" Reporter: \"But isn\\'t that hostile?\" Man: \"Yes, horse style, dog style, any style.\" Reporter: \"Oh dear!\"  Man: \"No, no deer. Deer run too fast. Hard to catch.\"',\n",
       " \"What happens to a frog's car when it breaks down?It gets toad away.\",\n",
       " 'Q: What did the duck say when he bought lipstick?A: \"Put it on my bill.\"',\n",
       " 'A blonde and a redhead have a ranch. They have just lost their bull. The women need to buy another, but only have $500. The redhead tells the blonde, \"I will go to the market and see if I can find one for under that amount.  If I can, I will send you a telegram.\"  She goes to the market and finds one for $499. Having only one dollar left, she goes to the telegraph office and finds out that it costs one dollar per word. She is stumped on how to tell the blonde to bring the truck and trailer. Finally, she tells the telegraph operator to send the word \"comfortable.\" Skeptical, the operator asks, \"How will she know to come with the trailer from just that word?\" The redhead replies, \"She\\'s a blonde so she reads slow: \\'Come for ta bull.\\'\"',\n",
       " 'A boy is selling fish on a corner. To get his customers\\' attention, he is yelling, \"Dam fish for sale! Get your dam fish here!\" A pastor hears this and asks, \"Why are you calling them \\'dam fish.\\'\" The boy responds, \"Because I caught these fish at the local dam.\" The pastor buys a couple fish, takes them home to his wife, and asks her to cook the dam fish. The wife responds surprised, \"I didn\\'t know it was acceptable for a preacher to speak that way.\" He explains to her why they are dam fish. Later at the dinner table, he asks his son to pass the dam fish. He responds, \"That\\'s the spirit, Dad! Now pass the f*cking potatoes!\"',\n",
       " \"Q: Why did the witches' team lose the baseball game? A: Their bats flew away.\",\n",
       " \"Q: Can a kangaroo jump higher than the Empire State Building? A: Of course. The Empire State Building can't jump.\",\n",
       " \"Q: Why couldn't the leopard play hide and seek? A: Because he was always spotted.\",\n",
       " 'Q. What did the elephant say to the naked man? A. \"How do you breathe through something so small?\"',\n",
       " 'Q: How do you count cows? A: With a cowculator.',\n",
       " 'Yo mama so stupid, she tried to save a fish from drowning.',\n",
       " 'Late one night a burglar broke into a house and while he was sneaking around he heard a voice say, \"Jesús is watching you.\" He looked around and saw nothing. He kept on creeping and again heard, \"Jesús is watching you.\" In a dark corner, he saw a cage with a parrot inside. The burglar asked the parrot, \"Was it you who said Jesús is watching me\" The parrot replied, \"Yes.\" Relieved, the burglar asked, \"What is your name?\" The parrot said, \"Clarence.\" The burglar said, \"That\\'s a stupid name for a parrot. What idiot named you Clarence?\" The parrot answered, \"The same idiot that named the rottweiler Jesús.\"']"
      ]
     },
     "metadata": {},
     "output_type": "display_data"
    },
    {
     "data": {
      "text/plain": [
       "[60929, 32170, 20003, 17906, 14946, 9965, 9722, 9175, 5902, 5682, 5467, 5053]"
      ]
     },
     "metadata": {},
     "output_type": "display_data"
    },
    {
     "data": {
      "text/plain": [
       "[20702, 16580, 12310, 6763, 5247, 6367, 4716, 4460, 3808, 2664, 1767, 2094]"
      ]
     },
     "metadata": {},
     "output_type": "display_data"
    }
   ],
   "source": [
    "#get all jokes, authors, likes and dislikes then append to a list\n",
    "authors = []\n",
    "all_jokes = []\n",
    "likes = []\n",
    "dislikes = []\n",
    "for jokes in soup(\"div\", class_ = 'jokes'):\n",
    "    author = jokes.find(\"span\", class_ = \"joke-publisher\").text\n",
    "    authors.append(author)\n",
    "    \n",
    "    joke = jokes.find(\"div\", class_ = \"joke-text\").text\n",
    "    all_jokes.append(joke.strip())\n",
    "    \n",
    "    like = jokes.find(\"a\", class_ = \"like\").text\n",
    "    likes.append(int(like))\n",
    "    \n",
    "    dislike = jokes.find(\"a\", class_ = \"dislike\").text\n",
    "    dislikes.append(int(dislike))\n",
    "#display the text\n",
    "display(authors)\n",
    "display(all_jokes)\n",
    "display(likes)\n",
    "display(dislikes)"
   ]
  },
  {
   "cell_type": "code",
   "execution_count": 8,
   "metadata": {},
   "outputs": [],
   "source": [
    "#convert to pandas dataframe\n",
    "df=pd.DataFrame({\n",
    "    \"Authors\": authors,\n",
    "    \"Joke\": all_jokes,\n",
    "    \"Likes\": likes,\n",
    "    \"Dislikes\": dislikes\n",
    "})\n",
    "\n",
    "#saving the csv file\n",
    "df.to_csv(\"Animal jokes.csv\", index=False)"
   ]
  },
  {
   "cell_type": "code",
   "execution_count": 9,
   "metadata": {},
   "outputs": [],
   "source": [
    "#show the column texts fully\n",
    "pd.set_option('display.max_colwidth', None)"
   ]
  },
  {
   "cell_type": "code",
   "execution_count": 10,
   "metadata": {},
   "outputs": [
    {
     "data": {
      "text/html": [
       "<div>\n",
       "<style scoped>\n",
       "    .dataframe tbody tr th:only-of-type {\n",
       "        vertical-align: middle;\n",
       "    }\n",
       "\n",
       "    .dataframe tbody tr th {\n",
       "        vertical-align: top;\n",
       "    }\n",
       "\n",
       "    .dataframe thead th {\n",
       "        text-align: right;\n",
       "    }\n",
       "</style>\n",
       "<table border=\"1\" class=\"dataframe\">\n",
       "  <thead>\n",
       "    <tr style=\"text-align: right;\">\n",
       "      <th></th>\n",
       "      <th>Authors</th>\n",
       "      <th>Joke</th>\n",
       "      <th>Likes</th>\n",
       "      <th>Dislikes</th>\n",
       "    </tr>\n",
       "  </thead>\n",
       "  <tbody>\n",
       "    <tr>\n",
       "      <th>0</th>\n",
       "      <td>Dhunganasa...</td>\n",
       "      <td>Reporter: \"Excuse me, may I interview you?\" Man: \"Yes!\" Reporter: \"Name?\" Man: \"Abdul Al-Rhazim.\" Reporter: \"Sex?\" Man: \"Three to five times a week.\" Reporter: \"No no! I mean male or female?\" Man: \"Yes, male, female... sometimes camel.\" Reporter: \"Holy cow!\" Man: \"Yes, cow, sheep... animals in general.\" Reporter: \"But isn't that hostile?\" Man: \"Yes, horse style, dog style, any style.\" Reporter: \"Oh dear!\"  Man: \"No, no deer. Deer run too fast. Hard to catch.\"</td>\n",
       "      <td>60929</td>\n",
       "      <td>20702</td>\n",
       "    </tr>\n",
       "    <tr>\n",
       "      <th>1</th>\n",
       "      <td>ZDW</td>\n",
       "      <td>What happens to a frog's car when it breaks down?It gets toad away.</td>\n",
       "      <td>32170</td>\n",
       "      <td>16580</td>\n",
       "    </tr>\n",
       "    <tr>\n",
       "      <th>2</th>\n",
       "      <td>TheLaughFa...</td>\n",
       "      <td>Q: What did the duck say when he bought lipstick?A: \"Put it on my bill.\"</td>\n",
       "      <td>20003</td>\n",
       "      <td>12310</td>\n",
       "    </tr>\n",
       "    <tr>\n",
       "      <th>3</th>\n",
       "      <td>Anonymous</td>\n",
       "      <td>A blonde and a redhead have a ranch. They have just lost their bull. The women need to buy another, but only have $500. The redhead tells the blonde, \"I will go to the market and see if I can find one for under that amount.  If I can, I will send you a telegram.\"  She goes to the market and finds one for $499. Having only one dollar left, she goes to the telegraph office and finds out that it costs one dollar per word. She is stumped on how to tell the blonde to bring the truck and trailer. Finally, she tells the telegraph operator to send the word \"comfortable.\" Skeptical, the operator asks, \"How will she know to come with the trailer from just that word?\" The redhead replies, \"She's a blonde so she reads slow: 'Come for ta bull.'\"</td>\n",
       "      <td>17906</td>\n",
       "      <td>6763</td>\n",
       "    </tr>\n",
       "    <tr>\n",
       "      <th>4</th>\n",
       "      <td>bandajoey92</td>\n",
       "      <td>A boy is selling fish on a corner. To get his customers' attention, he is yelling, \"Dam fish for sale! Get your dam fish here!\" A pastor hears this and asks, \"Why are you calling them 'dam fish.'\" The boy responds, \"Because I caught these fish at the local dam.\" The pastor buys a couple fish, takes them home to his wife, and asks her to cook the dam fish. The wife responds surprised, \"I didn't know it was acceptable for a preacher to speak that way.\" He explains to her why they are dam fish. Later at the dinner table, he asks his son to pass the dam fish. He responds, \"That's the spirit, Dad! Now pass the f*cking potatoes!\"</td>\n",
       "      <td>14946</td>\n",
       "      <td>5247</td>\n",
       "    </tr>\n",
       "  </tbody>\n",
       "</table>\n",
       "</div>"
      ],
      "text/plain": [
       "         Authors  \\\n",
       "0  Dhunganasa...   \n",
       "1            ZDW   \n",
       "2  TheLaughFa...   \n",
       "3      Anonymous   \n",
       "4    bandajoey92   \n",
       "\n",
       "                                                                                                                                                                                                                                                                                                                                                                                                                                                                                                                                                                                                                                                                                                                                                                     Joke  \\\n",
       "0                                                                                                                                                                                                                                                                                         Reporter: \"Excuse me, may I interview you?\" Man: \"Yes!\" Reporter: \"Name?\" Man: \"Abdul Al-Rhazim.\" Reporter: \"Sex?\" Man: \"Three to five times a week.\" Reporter: \"No no! I mean male or female?\" Man: \"Yes, male, female... sometimes camel.\" Reporter: \"Holy cow!\" Man: \"Yes, cow, sheep... animals in general.\" Reporter: \"But isn't that hostile?\" Man: \"Yes, horse style, dog style, any style.\" Reporter: \"Oh dear!\"  Man: \"No, no deer. Deer run too fast. Hard to catch.\"   \n",
       "1                                                                                                                                                                                                                                                                                                                                                                                                                                                                                                                                                                                                                                                                                                     What happens to a frog's car when it breaks down?It gets toad away.   \n",
       "2                                                                                                                                                                                                                                                                                                                                                                                                                                                                                                                                                                                                                                                                                                Q: What did the duck say when he bought lipstick?A: \"Put it on my bill.\"   \n",
       "3  A blonde and a redhead have a ranch. They have just lost their bull. The women need to buy another, but only have $500. The redhead tells the blonde, \"I will go to the market and see if I can find one for under that amount.  If I can, I will send you a telegram.\"  She goes to the market and finds one for $499. Having only one dollar left, she goes to the telegraph office and finds out that it costs one dollar per word. She is stumped on how to tell the blonde to bring the truck and trailer. Finally, she tells the telegraph operator to send the word \"comfortable.\" Skeptical, the operator asks, \"How will she know to come with the trailer from just that word?\" The redhead replies, \"She's a blonde so she reads slow: 'Come for ta bull.'\"   \n",
       "4                                                                                                                 A boy is selling fish on a corner. To get his customers' attention, he is yelling, \"Dam fish for sale! Get your dam fish here!\" A pastor hears this and asks, \"Why are you calling them 'dam fish.'\" The boy responds, \"Because I caught these fish at the local dam.\" The pastor buys a couple fish, takes them home to his wife, and asks her to cook the dam fish. The wife responds surprised, \"I didn't know it was acceptable for a preacher to speak that way.\" He explains to her why they are dam fish. Later at the dinner table, he asks his son to pass the dam fish. He responds, \"That's the spirit, Dad! Now pass the f*cking potatoes!\"   \n",
       "\n",
       "   Likes  Dislikes  \n",
       "0  60929     20702  \n",
       "1  32170     16580  \n",
       "2  20003     12310  \n",
       "3  17906      6763  \n",
       "4  14946      5247  "
      ]
     },
     "execution_count": 10,
     "metadata": {},
     "output_type": "execute_result"
    }
   ],
   "source": [
    "df.head()"
   ]
  },
  {
   "cell_type": "markdown",
   "metadata": {},
   "source": [
    "Scraping all the animal jokes"
   ]
  },
  {
   "cell_type": "code",
   "execution_count": 11,
   "metadata": {},
   "outputs": [],
   "source": [
    "#add the page number to end of the urls\n",
    "pages=[]\n",
    "for url in range(1,25):\n",
    "    urls = \"http://www.laughfactory.com/jokes/animal-jokes\"+ \"/\"+str(url)\n",
    "    pages.append(urls)"
   ]
  },
  {
   "cell_type": "code",
   "execution_count": 12,
   "metadata": {},
   "outputs": [],
   "source": [
    "all_likes=[]\n",
    "all_dislikes=[]\n",
    "all_authors=[]\n",
    "joke_texts=[]\n",
    "\n",
    "#loop through the pages and find the div holding the joke\n",
    "for page in pages:\n",
    "    joke= urlopen(page)\n",
    "    soup = bs(joke.read(), 'html.parser')\n",
    "    jokes=soup(\"div\", class_=\"jokes\")\n",
    "    \n",
    "    #loop through the jokes variable and filter out the jokes, likes, dislikes and author\n",
    "    for joke in jokes:\n",
    "        like=joke.find(\"a\",class_=\"like\").text\n",
    "        all_likes.append(int(like))\n",
    "    \n",
    "        dislike=joke.find(\"a\",class_=\"dislike\").text\n",
    "        all_dislikes.append(int(dislike))\n",
    "    \n",
    "        author=joke.find(\"span\",class_=\"joke-publisher\").text\n",
    "        all_authors.append(author)\n",
    "    \n",
    "        joke_text=joke.find(\"div\", class_=\"joke-text\").text\n",
    "        joke_texts.append(joke_text.strip())"
   ]
  },
  {
   "cell_type": "code",
   "execution_count": 13,
   "metadata": {},
   "outputs": [],
   "source": [
    "#convert to pandas dataframe\n",
    "df1=pd.DataFrame({\n",
    "    \"Authors\": all_authors,\n",
    "    \"Joke\": joke_texts,\n",
    "    \"Likes\": all_likes,\n",
    "    \"Dislikes\": all_dislikes\n",
    "})\n",
    "\n",
    "#saving the csv file\n",
    "df.to_csv(\"All animal jokes.csv\", index=False)"
   ]
  },
  {
   "cell_type": "code",
   "execution_count": 14,
   "metadata": {},
   "outputs": [
    {
     "data": {
      "text/html": [
       "<div>\n",
       "<style scoped>\n",
       "    .dataframe tbody tr th:only-of-type {\n",
       "        vertical-align: middle;\n",
       "    }\n",
       "\n",
       "    .dataframe tbody tr th {\n",
       "        vertical-align: top;\n",
       "    }\n",
       "\n",
       "    .dataframe thead th {\n",
       "        text-align: right;\n",
       "    }\n",
       "</style>\n",
       "<table border=\"1\" class=\"dataframe\">\n",
       "  <thead>\n",
       "    <tr style=\"text-align: right;\">\n",
       "      <th></th>\n",
       "      <th>Authors</th>\n",
       "      <th>Joke</th>\n",
       "      <th>Likes</th>\n",
       "      <th>Dislikes</th>\n",
       "    </tr>\n",
       "  </thead>\n",
       "  <tbody>\n",
       "    <tr>\n",
       "      <th>0</th>\n",
       "      <td>Dhunganasa...</td>\n",
       "      <td>Reporter: \"Excuse me, may I interview you?\" Man: \"Yes!\" Reporter: \"Name?\" Man: \"Abdul Al-Rhazim.\" Reporter: \"Sex?\" Man: \"Three to five times a week.\" Reporter: \"No no! I mean male or female?\" Man: \"Yes, male, female... sometimes camel.\" Reporter: \"Holy cow!\" Man: \"Yes, cow, sheep... animals in general.\" Reporter: \"But isn't that hostile?\" Man: \"Yes, horse style, dog style, any style.\" Reporter: \"Oh dear!\"  Man: \"No, no deer. Deer run too fast. Hard to catch.\"</td>\n",
       "      <td>60929</td>\n",
       "      <td>20702</td>\n",
       "    </tr>\n",
       "    <tr>\n",
       "      <th>1</th>\n",
       "      <td>ZDW</td>\n",
       "      <td>What happens to a frog's car when it breaks down?It gets toad away.</td>\n",
       "      <td>32170</td>\n",
       "      <td>16580</td>\n",
       "    </tr>\n",
       "    <tr>\n",
       "      <th>2</th>\n",
       "      <td>TheLaughFa...</td>\n",
       "      <td>Q: What did the duck say when he bought lipstick?A: \"Put it on my bill.\"</td>\n",
       "      <td>20003</td>\n",
       "      <td>12310</td>\n",
       "    </tr>\n",
       "    <tr>\n",
       "      <th>3</th>\n",
       "      <td>Anonymous</td>\n",
       "      <td>A blonde and a redhead have a ranch. They have just lost their bull. The women need to buy another, but only have $500. The redhead tells the blonde, \"I will go to the market and see if I can find one for under that amount.  If I can, I will send you a telegram.\"  She goes to the market and finds one for $499. Having only one dollar left, she goes to the telegraph office and finds out that it costs one dollar per word. She is stumped on how to tell the blonde to bring the truck and trailer. Finally, she tells the telegraph operator to send the word \"comfortable.\" Skeptical, the operator asks, \"How will she know to come with the trailer from just that word?\" The redhead replies, \"She's a blonde so she reads slow: 'Come for ta bull.'\"</td>\n",
       "      <td>17906</td>\n",
       "      <td>6763</td>\n",
       "    </tr>\n",
       "    <tr>\n",
       "      <th>4</th>\n",
       "      <td>bandajoey92</td>\n",
       "      <td>A boy is selling fish on a corner. To get his customers' attention, he is yelling, \"Dam fish for sale! Get your dam fish here!\" A pastor hears this and asks, \"Why are you calling them 'dam fish.'\" The boy responds, \"Because I caught these fish at the local dam.\" The pastor buys a couple fish, takes them home to his wife, and asks her to cook the dam fish. The wife responds surprised, \"I didn't know it was acceptable for a preacher to speak that way.\" He explains to her why they are dam fish. Later at the dinner table, he asks his son to pass the dam fish. He responds, \"That's the spirit, Dad! Now pass the f*cking potatoes!\"</td>\n",
       "      <td>14946</td>\n",
       "      <td>5247</td>\n",
       "    </tr>\n",
       "  </tbody>\n",
       "</table>\n",
       "</div>"
      ],
      "text/plain": [
       "         Authors  \\\n",
       "0  Dhunganasa...   \n",
       "1            ZDW   \n",
       "2  TheLaughFa...   \n",
       "3      Anonymous   \n",
       "4    bandajoey92   \n",
       "\n",
       "                                                                                                                                                                                                                                                                                                                                                                                                                                                                                                                                                                                                                                                                                                                                                                     Joke  \\\n",
       "0                                                                                                                                                                                                                                                                                         Reporter: \"Excuse me, may I interview you?\" Man: \"Yes!\" Reporter: \"Name?\" Man: \"Abdul Al-Rhazim.\" Reporter: \"Sex?\" Man: \"Three to five times a week.\" Reporter: \"No no! I mean male or female?\" Man: \"Yes, male, female... sometimes camel.\" Reporter: \"Holy cow!\" Man: \"Yes, cow, sheep... animals in general.\" Reporter: \"But isn't that hostile?\" Man: \"Yes, horse style, dog style, any style.\" Reporter: \"Oh dear!\"  Man: \"No, no deer. Deer run too fast. Hard to catch.\"   \n",
       "1                                                                                                                                                                                                                                                                                                                                                                                                                                                                                                                                                                                                                                                                                                     What happens to a frog's car when it breaks down?It gets toad away.   \n",
       "2                                                                                                                                                                                                                                                                                                                                                                                                                                                                                                                                                                                                                                                                                                Q: What did the duck say when he bought lipstick?A: \"Put it on my bill.\"   \n",
       "3  A blonde and a redhead have a ranch. They have just lost their bull. The women need to buy another, but only have $500. The redhead tells the blonde, \"I will go to the market and see if I can find one for under that amount.  If I can, I will send you a telegram.\"  She goes to the market and finds one for $499. Having only one dollar left, she goes to the telegraph office and finds out that it costs one dollar per word. She is stumped on how to tell the blonde to bring the truck and trailer. Finally, she tells the telegraph operator to send the word \"comfortable.\" Skeptical, the operator asks, \"How will she know to come with the trailer from just that word?\" The redhead replies, \"She's a blonde so she reads slow: 'Come for ta bull.'\"   \n",
       "4                                                                                                                 A boy is selling fish on a corner. To get his customers' attention, he is yelling, \"Dam fish for sale! Get your dam fish here!\" A pastor hears this and asks, \"Why are you calling them 'dam fish.'\" The boy responds, \"Because I caught these fish at the local dam.\" The pastor buys a couple fish, takes them home to his wife, and asks her to cook the dam fish. The wife responds surprised, \"I didn't know it was acceptable for a preacher to speak that way.\" He explains to her why they are dam fish. Later at the dinner table, he asks his son to pass the dam fish. He responds, \"That's the spirit, Dad! Now pass the f*cking potatoes!\"   \n",
       "\n",
       "   Likes  Dislikes  \n",
       "0  60929     20702  \n",
       "1  32170     16580  \n",
       "2  20003     12310  \n",
       "3  17906      6763  \n",
       "4  14946      5247  "
      ]
     },
     "execution_count": 14,
     "metadata": {},
     "output_type": "execute_result"
    }
   ],
   "source": [
    "df1.head()"
   ]
  },
  {
   "cell_type": "code",
   "execution_count": 16,
   "metadata": {},
   "outputs": [
    {
     "name": "stdout",
     "output_type": "stream",
     "text": [
      "<class 'pandas.core.frame.DataFrame'>\n",
      "RangeIndex: 284 entries, 0 to 283\n",
      "Data columns (total 4 columns):\n",
      " #   Column    Non-Null Count  Dtype \n",
      "---  ------    --------------  ----- \n",
      " 0   Authors   284 non-null    object\n",
      " 1   Joke      284 non-null    object\n",
      " 2   Likes     284 non-null    int64 \n",
      " 3   Dislikes  284 non-null    int64 \n",
      "dtypes: int64(2), object(2)\n",
      "memory usage: 9.0+ KB\n"
     ]
    }
   ],
   "source": [
    "df1.info()"
   ]
  },
  {
   "cell_type": "code",
   "execution_count": null,
   "metadata": {},
   "outputs": [],
   "source": []
  }
 ],
 "metadata": {
  "kernelspec": {
   "display_name": "Python 3",
   "language": "python",
   "name": "python3"
  },
  "language_info": {
   "codemirror_mode": {
    "name": "ipython",
    "version": 3
   },
   "file_extension": ".py",
   "mimetype": "text/x-python",
   "name": "python",
   "nbconvert_exporter": "python",
   "pygments_lexer": "ipython3",
   "version": "3.9.1"
  }
 },
 "nbformat": 4,
 "nbformat_minor": 4
}
