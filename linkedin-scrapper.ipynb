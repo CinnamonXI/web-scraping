{
 "cells": [
  {
   "cell_type": "code",
   "execution_count": 1,
   "id": "complicated-guyana",
   "metadata": {},
   "outputs": [],
   "source": [
    "import pandas as pd\n",
    "from bs4 import BeautifulSoup as bs\n",
    "from urllib.request import urlopen, Request\n",
    "from selenium import webdriver\n",
    "from selenium.webdriver.common.keys import Keys\n",
    "import time\n",
    "import re"
   ]
  },
  {
   "cell_type": "markdown",
   "id": "blind-research",
   "metadata": {},
   "source": [
    "url = \"https://www.linkedin.com/search/results/people/?geoUrn=%5B%22104197452%22%5D&keywords=data%20analyst&origin=FACETED_SEARCH&sid=Tqr\""
   ]
  },
  {
   "cell_type": "markdown",
   "id": "numerical-shape",
   "metadata": {},
   "source": [
    "req = Request(url, headers={'User-Agent': 'Mozilla/5.0'})\n",
    "page = urlopen(req)"
   ]
  },
  {
   "cell_type": "markdown",
   "id": "thirty-permit",
   "metadata": {},
   "source": [
    "#url = \"https://www.linkedin.com/mynetwork/invite-connect/connections\"\n",
    "driver = webdriver.Chrome('./chromedriver')\n",
    "driver.get(url)"
   ]
  },
  {
   "cell_type": "markdown",
   "id": "changing-chess",
   "metadata": {},
   "source": [
    "time.sleep(1)\n",
    "usr = \"lateefahlabellebello@gmail.com\"\n",
    "pwd = \"@Labelle1\"\n",
    " \n",
    "time.sleep(1)\n",
    "if driver.find_element_by_id(\"organic-div\"):\n",
    "    driver.find_element_by_id(\"organic-div\").click()\n",
    "\n",
    "elem = driver.find_element_by_id(\"username\")\n",
    "elem.send_keys(usr)\n",
    " \n",
    "elem = driver.find_element_by_id(\"password\")\n",
    "elem.send_keys(pwd)\n",
    " \n",
    "elem.send_keys(Keys.RETURN)"
   ]
  },
  {
   "cell_type": "markdown",
   "id": "revolutionary-national",
   "metadata": {},
   "source": [
    "soup =  bs(driver.page_source, \"lxml\")\n",
    "print(soup.prettify())"
   ]
  },
  {
   "cell_type": "code",
   "execution_count": 2,
   "id": "hazardous-heaven",
   "metadata": {},
   "outputs": [],
   "source": [
    "HtmlFile = open(\"linkedin.html\", 'r', encoding='utf-8')\n",
    "source_code = HtmlFile.read()"
   ]
  },
  {
   "cell_type": "code",
   "execution_count": 3,
   "id": "amazing-denial",
   "metadata": {},
   "outputs": [],
   "source": [
    "soup = bs(source_code)\n"
   ]
  },
  {
   "cell_type": "code",
   "execution_count": 4,
   "id": "polish-combining",
   "metadata": {},
   "outputs": [],
   "source": [
    "all_profiles = soup.find_all(\"span\", {\"dir\": \"ltr\"})"
   ]
  },
  {
   "cell_type": "code",
   "execution_count": 9,
   "id": "intermediate-street",
   "metadata": {},
   "outputs": [],
   "source": [
    "names = []\n",
    "for i in all_profiles:\n",
    "    if i.find(\"span\", class_ = False):\n",
    "        profile = i.text\n",
    "        name = re.sub('V.*',\"\", profile)\n",
    "        names.append(name)"
   ]
  },
  {
   "cell_type": "code",
   "execution_count": 10,
   "id": "pacific-sailing",
   "metadata": {},
   "outputs": [],
   "source": [
    "all_summary = soup.find_all(\"p\", class_ = \"entity-result__summary--2-lines\")\n",
    "summaries = []\n",
    "for i in all_summary:\n",
    "    summaries.append(i.text.strip())\n",
    "    "
   ]
  },
  {
   "cell_type": "code",
   "execution_count": 54,
   "id": "still-jacket",
   "metadata": {},
   "outputs": [],
   "source": [
    "all_roles = soup.find_all(\"div\", class_=\"entity-result__primary-subtitle\")\n",
    "roles = []\n",
    "companies = []\n",
    "for i in all_roles:\n",
    "    old = i.text.strip()\n",
    "    new = old.split(\" at \", 2)\n",
    "    if len(new) == 2:\n",
    "        roles.append(new[0].lower())\n",
    "        companies.append(new[1].lower())\n",
    "    else:\n",
    "        roles.append(\"data analyst\")\n",
    "        companies.append(\"open to work\")"
   ]
  },
  {
   "cell_type": "code",
   "execution_count": 55,
   "id": "welcome-forestry",
   "metadata": {},
   "outputs": [],
   "source": [
    "all_locations = soup.find_all(\"div\", class_=\"entity-result__secondary-subtitle\")\n",
    "locations = []\n",
    "for i in all_locations:\n",
    "    locations.append(i.text.strip())"
   ]
  },
  {
   "cell_type": "code",
   "execution_count": 53,
   "id": "neural-recycling",
   "metadata": {},
   "outputs": [
    {
     "name": "stdout",
     "output_type": "stream",
     "text": [
      "3\n"
     ]
    }
   ],
   "source": [
    "print(len(roles))"
   ]
  },
  {
   "cell_type": "code",
   "execution_count": 56,
   "id": "automated-democracy",
   "metadata": {},
   "outputs": [],
   "source": [
    "all_profile_info = {\"name\": names,\n",
    "                    \"role\": roles,\n",
    "                    \"company\": companies,\n",
    "                    \"location\": locations,\n",
    "                   \"summary\": summaries}"
   ]
  },
  {
   "cell_type": "code",
   "execution_count": 58,
   "id": "hazardous-coordinator",
   "metadata": {},
   "outputs": [
    {
     "data": {
      "text/html": [
       "<div>\n",
       "<style scoped>\n",
       "    .dataframe tbody tr th:only-of-type {\n",
       "        vertical-align: middle;\n",
       "    }\n",
       "\n",
       "    .dataframe tbody tr th {\n",
       "        vertical-align: top;\n",
       "    }\n",
       "\n",
       "    .dataframe thead th {\n",
       "        text-align: right;\n",
       "    }\n",
       "</style>\n",
       "<table border=\"1\" class=\"dataframe\">\n",
       "  <thead>\n",
       "    <tr style=\"text-align: right;\">\n",
       "      <th></th>\n",
       "      <th>name</th>\n",
       "      <th>role</th>\n",
       "      <th>company</th>\n",
       "      <th>location</th>\n",
       "      <th>summary</th>\n",
       "    </tr>\n",
       "  </thead>\n",
       "  <tbody>\n",
       "    <tr>\n",
       "      <th>0</th>\n",
       "      <td>Abdulrahman Ibrahim</td>\n",
       "      <td>data analyst</td>\n",
       "      <td>stathub analytics</td>\n",
       "      <td>Lagos</td>\n",
       "      <td>Certifications: SQL-MySQL for data Analytics a...</td>\n",
       "    </tr>\n",
       "    <tr>\n",
       "      <th>1</th>\n",
       "      <td>Deborah Ayandipe</td>\n",
       "      <td>data analyst</td>\n",
       "      <td>open to work</td>\n",
       "      <td>Ogbomosho</td>\n",
       "      <td>Current: Data Analyst at Illuminal Statistical...</td>\n",
       "    </tr>\n",
       "    <tr>\n",
       "      <th>2</th>\n",
       "      <td>Seun Sotayo</td>\n",
       "      <td>data analyst</td>\n",
       "      <td>ailead technologies</td>\n",
       "      <td>Lagos</td>\n",
       "      <td>Past: Educational manager, Data analyst at Lit...</td>\n",
       "    </tr>\n",
       "    <tr>\n",
       "      <th>3</th>\n",
       "      <td>Dickson Daniel</td>\n",
       "      <td>data analyst/ business intelligence team member</td>\n",
       "      <td>primero transport services limited</td>\n",
       "      <td>Lagos Mainland</td>\n",
       "      <td>Current: Data Analyst at Primero Transport Ser...</td>\n",
       "    </tr>\n",
       "    <tr>\n",
       "      <th>4</th>\n",
       "      <td>Babatunde Banwo</td>\n",
       "      <td>data analyst</td>\n",
       "      <td>tolaram group</td>\n",
       "      <td>Lagos</td>\n",
       "      <td>Summary: I am a motivated and diverse professi...</td>\n",
       "    </tr>\n",
       "    <tr>\n",
       "      <th>5</th>\n",
       "      <td>Mary Miti, ACIB</td>\n",
       "      <td>data analyst</td>\n",
       "      <td>access bank plc</td>\n",
       "      <td>Lagos, Nigeria</td>\n",
       "      <td>Current: Data Analyst at Access Bank Plc</td>\n",
       "    </tr>\n",
       "    <tr>\n",
       "      <th>6</th>\n",
       "      <td>Uyiosa Nosa-Akpasubi, PMP</td>\n",
       "      <td>data analyst</td>\n",
       "      <td>open to work</td>\n",
       "      <td>Lagos</td>\n",
       "      <td>Current: Data Analyst at Niyer Consult</td>\n",
       "    </tr>\n",
       "    <tr>\n",
       "      <th>7</th>\n",
       "      <td>Bolaji J. Adebisi, 𝑀𝑆𝑐., 𝐴𝐶𝐼𝐵</td>\n",
       "      <td>data analyst</td>\n",
       "      <td>access bank plc</td>\n",
       "      <td>Lagos, Nigeria</td>\n",
       "      <td>Certifications: Microsoft Certified: Data Anal...</td>\n",
       "    </tr>\n",
       "    <tr>\n",
       "      <th>8</th>\n",
       "      <td>Anuoluwapo Afolabi</td>\n",
       "      <td>data analyst</td>\n",
       "      <td>vivo</td>\n",
       "      <td>Ikorodu</td>\n",
       "      <td>Current: Data Analyst at Vivo - work as a data...</td>\n",
       "    </tr>\n",
       "    <tr>\n",
       "      <th>9</th>\n",
       "      <td>Rodhiyat Raheem</td>\n",
       "      <td>data analyst</td>\n",
       "      <td>open to work</td>\n",
       "      <td>Lagos</td>\n",
       "      <td>Current: Data Analyst at Upwork</td>\n",
       "    </tr>\n",
       "  </tbody>\n",
       "</table>\n",
       "</div>"
      ],
      "text/plain": [
       "                            name  \\\n",
       "0            Abdulrahman Ibrahim   \n",
       "1               Deborah Ayandipe   \n",
       "2                    Seun Sotayo   \n",
       "3                 Dickson Daniel   \n",
       "4                Babatunde Banwo   \n",
       "5                Mary Miti, ACIB   \n",
       "6      Uyiosa Nosa-Akpasubi, PMP   \n",
       "7  Bolaji J. Adebisi, 𝑀𝑆𝑐., 𝐴𝐶𝐼𝐵   \n",
       "8             Anuoluwapo Afolabi   \n",
       "9                Rodhiyat Raheem   \n",
       "\n",
       "                                              role  \\\n",
       "0                                     data analyst   \n",
       "1                                     data analyst   \n",
       "2                                     data analyst   \n",
       "3  data analyst/ business intelligence team member   \n",
       "4                                     data analyst   \n",
       "5                                     data analyst   \n",
       "6                                     data analyst   \n",
       "7                                     data analyst   \n",
       "8                                     data analyst   \n",
       "9                                     data analyst   \n",
       "\n",
       "                              company        location  \\\n",
       "0                   stathub analytics           Lagos   \n",
       "1                        open to work       Ogbomosho   \n",
       "2                 ailead technologies           Lagos   \n",
       "3  primero transport services limited  Lagos Mainland   \n",
       "4                       tolaram group           Lagos   \n",
       "5                     access bank plc  Lagos, Nigeria   \n",
       "6                        open to work           Lagos   \n",
       "7                     access bank plc  Lagos, Nigeria   \n",
       "8                                vivo         Ikorodu   \n",
       "9                        open to work           Lagos   \n",
       "\n",
       "                                             summary  \n",
       "0  Certifications: SQL-MySQL for data Analytics a...  \n",
       "1  Current: Data Analyst at Illuminal Statistical...  \n",
       "2  Past: Educational manager, Data analyst at Lit...  \n",
       "3  Current: Data Analyst at Primero Transport Ser...  \n",
       "4  Summary: I am a motivated and diverse professi...  \n",
       "5           Current: Data Analyst at Access Bank Plc  \n",
       "6             Current: Data Analyst at Niyer Consult  \n",
       "7  Certifications: Microsoft Certified: Data Anal...  \n",
       "8  Current: Data Analyst at Vivo - work as a data...  \n",
       "9                    Current: Data Analyst at Upwork  "
      ]
     },
     "execution_count": 58,
     "metadata": {},
     "output_type": "execute_result"
    }
   ],
   "source": [
    "df = pd.DataFrame(all_profile_info)\n",
    "df"
   ]
  },
  {
   "cell_type": "code",
   "execution_count": null,
   "id": "unexpected-ladder",
   "metadata": {},
   "outputs": [],
   "source": []
  }
 ],
 "metadata": {
  "kernelspec": {
   "display_name": "Python 3",
   "language": "python",
   "name": "python3"
  },
  "language_info": {
   "codemirror_mode": {
    "name": "ipython",
    "version": 3
   },
   "file_extension": ".py",
   "mimetype": "text/x-python",
   "name": "python",
   "nbconvert_exporter": "python",
   "pygments_lexer": "ipython3",
   "version": "3.9.1"
  }
 },
 "nbformat": 4,
 "nbformat_minor": 5
}
