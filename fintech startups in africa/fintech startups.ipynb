{
 "cells": [
  {
   "cell_type": "code",
   "execution_count": 14,
   "id": "wicked-advance",
   "metadata": {},
   "outputs": [],
   "source": [
    "from selenium import webdriver\n",
    "from selenium.webdriver.common.keys import Keys\n",
    "import pandas as pd"
   ]
  },
  {
   "cell_type": "code",
   "execution_count": 2,
   "id": "prescription-mumbai",
   "metadata": {},
   "outputs": [],
   "source": [
    "url = \"https://startuplist.africa/fintech-startups-in-africa\""
   ]
  },
  {
   "cell_type": "code",
   "execution_count": 15,
   "id": "photographic-tissue",
   "metadata": {},
   "outputs": [],
   "source": [
    "driver = webdriver.Chrome('./chromedriver')"
   ]
  },
  {
   "cell_type": "code",
   "execution_count": 16,
   "id": "offshore-lindsay",
   "metadata": {},
   "outputs": [],
   "source": [
    "driver.get(url)"
   ]
  },
  {
   "cell_type": "code",
   "execution_count": 24,
   "id": "aware-elephant",
   "metadata": {},
   "outputs": [],
   "source": [
    "firms_list = []\n"
   ]
  },
  {
   "cell_type": "code",
   "execution_count": 72,
   "id": "controversial-energy",
   "metadata": {},
   "outputs": [],
   "source": [
    "firms = driver.find_elements_by_xpath('//h6[@class=\"name\"]')"
   ]
  },
  {
   "cell_type": "code",
   "execution_count": 73,
   "id": "fixed-shape",
   "metadata": {},
   "outputs": [],
   "source": [
    "for p in range(len(firms)):\n",
    "    firms_list.append(firms[p].text)"
   ]
  },
  {
   "cell_type": "code",
   "execution_count": 74,
   "id": "delayed-window",
   "metadata": {},
   "outputs": [
    {
     "data": {
      "text/plain": [
       "['NowPay',\n",
       " 'PettySave',\n",
       " 'Aella Credit',\n",
       " '4G Capital',\n",
       " 'Naked Insurance',\n",
       " 'MFS Africa',\n",
       " 'Zeal Rewards',\n",
       " 'Taxmingo',\n",
       " 'Mortgage Market',\n",
       " 'Payflex',\n",
       " 'Lipalater',\n",
       " 'PremierCredit',\n",
       " 'Payjustnow',\n",
       " 'Mobicred',\n",
       " 'ImaliPay',\n",
       " 'Kwaba',\n",
       " 'Ahmini',\n",
       " 'Inoxico',\n",
       " 'Crowdyvest',\n",
       " 'MALII',\n",
       " 'Stitch',\n",
       " 'Accelerex',\n",
       " 'Oltio',\n",
       " 'Xago',\n",
       " 'Xend',\n",
       " 'OZÉ',\n",
       " 'Umba',\n",
       " 'Zeepay',\n",
       " 'Appruve',\n",
       " 'Cassbana',\n",
       " 'Popote',\n",
       " 'ArifPay',\n",
       " 'FairMoney',\n",
       " 'Mozacoin',\n",
       " 'Digiduka',\n",
       " 'BezoMoney',\n",
       " 'Lemonade Finance',\n",
       " 'Appzone',\n",
       " 'OneWattSolar',\n",
       " 'Kadi',\n",
       " 'Yalla Xash',\n",
       " 'Flouci',\n",
       " 'Prospa',\n",
       " 'Ejara',\n",
       " 'Egoras',\n",
       " 'Chaka',\n",
       " 'Cowrie Integrated Systems',\n",
       " 'Numida',\n",
       " 'Dayra',\n",
       " 'Kotani Pay',\n",
       " 'Dash',\n",
       " 'Troygold',\n",
       " 'Payhippo',\n",
       " 'Adumo',\n",
       " 'Ozow',\n",
       " 'Bankly',\n",
       " 'Tanda',\n",
       " 'Djamo',\n",
       " 'Ensibuuko',\n",
       " 'Alternative Circle',\n",
       " 'Fawry',\n",
       " 'Fundamo',\n",
       " 'CoinFLEX',\n",
       " 'Inclusivity Solutions',\n",
       " 'Crop2Cash',\n",
       " 'i.Sec',\n",
       " 'CredPal',\n",
       " 'Bright On Capital',\n",
       " 'uKheshe',\n",
       " 'XPay',\n",
       " 'Shahry',\n",
       " 'Peach Payments',\n",
       " 'LifeCheq',\n",
       " 'Fundall',\n",
       " 'Mono',\n",
       " 'VoguePay',\n",
       " 'MoneyFellows',\n",
       " 'FinChatBot',\n",
       " 'HUB2.io',\n",
       " 'Asilimia',\n",
       " 'Flex Finance',\n",
       " 'Fintec Labs',\n",
       " 'Asaak',\n",
       " 'GetBucks',\n",
       " 'Firstmonie',\n",
       " 'Carbon',\n",
       " 'NALA',\n",
       " 'Kiba',\n",
       " 'Levidge',\n",
       " 'Kudi',\n",
       " 'Raseedi',\n",
       " 'Julaya',\n",
       " 'invyad',\n",
       " 'Okra',\n",
       " 'Nobuntu',\n",
       " 'Mettle',\n",
       " 'KudiGo',\n",
       " 'MERGIMS',\n",
       " 'KINEKT Terminals',\n",
       " 'Paystack',\n",
       " 'S2M',\n",
       " 'Lulalend',\n",
       " 'KiaKia',\n",
       " 'PiggyVest',\n",
       " 'Paga',\n",
       " 'JUMO',\n",
       " 'Kopano',\n",
       " 'OPay',\n",
       " 'Peaqock Financials',\n",
       " 'Investec',\n",
       " 'Interswitch',\n",
       " 'Lidya',\n",
       " 'Leasafric Ghana',\n",
       " 'InvestSure',\n",
       " 'Spartan SME Finance',\n",
       " 'VALR',\n",
       " 'UbaPesa',\n",
       " 'VT Leasing',\n",
       " 'Yoco',\n",
       " 'Spoon Money',\n",
       " 'SpacePointe',\n",
       " 'The Kueq Limited',\n",
       " 'Tulaa',\n",
       " 'Watu Credit',\n",
       " 'TeamApt',\n",
       " 'TymeBank',\n",
       " 'Nvoicia',\n",
       " 'Trove',\n",
       " 'ElGameya',\n",
       " 'Quidax',\n",
       " 'Kuda Bank',\n",
       " 'OnePipe',\n",
       " 'CredoLab',\n",
       " 'Afriex',\n",
       " 'Brass',\n",
       " 'Lupiya',\n",
       " 'Indicina',\n",
       " 'Nokwary',\n",
       " 'Chipper Cash',\n",
       " 'Korapay',\n",
       " 'Mangwee',\n",
       " 'ProfitShare Partners',\n",
       " 'Evolve Credit',\n",
       " 'Eversend',\n",
       " 'Joovlin',\n",
       " 'Fliqpay',\n",
       " 'OnePay',\n",
       " 'Eyowo',\n",
       " 'Paymob',\n",
       " 'TradeSafe',\n",
       " 'Payment24',\n",
       " 'Invoice NG',\n",
       " 'StartCredits',\n",
       " 'Flick',\n",
       " 'Jamborow',\n",
       " 'Zoona',\n",
       " 'Lendsqr',\n",
       " 'Zazu',\n",
       " 'Kashier Payments',\n",
       " 'Yellow Card',\n",
       " 'Khazna',\n",
       " 'Planet42',\n",
       " 'Thndr',\n",
       " 'Renmoney']"
      ]
     },
     "execution_count": 74,
     "metadata": {},
     "output_type": "execute_result"
    }
   ],
   "source": [
    "firms_list"
   ]
  },
  {
   "cell_type": "code",
   "execution_count": 79,
   "id": "standing-nicholas",
   "metadata": {},
   "outputs": [],
   "source": [
    "df = pd.DataFrame(firms_list, columns=[\"firm_name\"])"
   ]
  },
  {
   "cell_type": "code",
   "execution_count": 80,
   "id": "knowing-marker",
   "metadata": {},
   "outputs": [
    {
     "data": {
      "text/html": [
       "<div>\n",
       "<style scoped>\n",
       "    .dataframe tbody tr th:only-of-type {\n",
       "        vertical-align: middle;\n",
       "    }\n",
       "\n",
       "    .dataframe tbody tr th {\n",
       "        vertical-align: top;\n",
       "    }\n",
       "\n",
       "    .dataframe thead th {\n",
       "        text-align: right;\n",
       "    }\n",
       "</style>\n",
       "<table border=\"1\" class=\"dataframe\">\n",
       "  <thead>\n",
       "    <tr style=\"text-align: right;\">\n",
       "      <th></th>\n",
       "      <th>firm_name</th>\n",
       "    </tr>\n",
       "  </thead>\n",
       "  <tbody>\n",
       "    <tr>\n",
       "      <th>0</th>\n",
       "      <td>NowPay</td>\n",
       "    </tr>\n",
       "    <tr>\n",
       "      <th>1</th>\n",
       "      <td>PettySave</td>\n",
       "    </tr>\n",
       "    <tr>\n",
       "      <th>2</th>\n",
       "      <td>Aella Credit</td>\n",
       "    </tr>\n",
       "    <tr>\n",
       "      <th>3</th>\n",
       "      <td>4G Capital</td>\n",
       "    </tr>\n",
       "    <tr>\n",
       "      <th>4</th>\n",
       "      <td>Naked Insurance</td>\n",
       "    </tr>\n",
       "  </tbody>\n",
       "</table>\n",
       "</div>"
      ],
      "text/plain": [
       "         firm_name\n",
       "0           NowPay\n",
       "1        PettySave\n",
       "2     Aella Credit\n",
       "3       4G Capital\n",
       "4  Naked Insurance"
      ]
     },
     "execution_count": 80,
     "metadata": {},
     "output_type": "execute_result"
    }
   ],
   "source": [
    "df.head()"
   ]
  },
  {
   "cell_type": "code",
   "execution_count": 83,
   "id": "bibliographic-edgar",
   "metadata": {},
   "outputs": [],
   "source": [
    "df.to_csv(\"fintech startups in africa.csv\",index=False)"
   ]
  },
  {
   "cell_type": "code",
   "execution_count": null,
   "id": "residential-arlington",
   "metadata": {},
   "outputs": [],
   "source": []
  }
 ],
 "metadata": {
  "kernelspec": {
   "display_name": "Python 3",
   "language": "python",
   "name": "python3"
  },
  "language_info": {
   "codemirror_mode": {
    "name": "ipython",
    "version": 3
   },
   "file_extension": ".py",
   "mimetype": "text/x-python",
   "name": "python",
   "nbconvert_exporter": "python",
   "pygments_lexer": "ipython3",
   "version": "3.9.1"
  }
 },
 "nbformat": 4,
 "nbformat_minor": 5
}
